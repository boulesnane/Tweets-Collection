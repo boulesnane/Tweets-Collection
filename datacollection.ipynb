{
 "cells": [
  {
   "cell_type": "markdown",
   "metadata": {},
   "source": [
    "## Import Libraries"
   ]
  },
  {
   "cell_type": "code",
   "execution_count": 1,
   "metadata": {},
   "outputs": [],
   "source": [
    "import GetOldTweets3 as got\n",
    "import pymysql\n",
    "from mysql.connector import Error\n",
    "import tweepy\n",
    "import json\n",
    "from dateutil import parser\n",
    "import time\n",
    "import os\n",
    "import subprocess"
   ]
  },
  {
   "cell_type": "markdown",
   "metadata": {},
   "source": [
    "##  Mysql database password"
   ]
  },
  {
   "cell_type": "code",
   "execution_count": 2,
   "metadata": {},
   "outputs": [],
   "source": [
    "password = '1234'"
   ]
  },
  {
   "cell_type": "markdown",
   "metadata": {},
   "source": [
    "##  functions used to get stored data from mysql database"
   ]
  },
  {
   "cell_type": "code",
   "execution_count": 3,
   "metadata": {},
   "outputs": [],
   "source": [
    "def gettweetsNBRall():\n",
    "    con = pymysql.connect(host = 'localhost',db='tweetsdb', user='root', password = password, charset = 'utf8')\n",
    "    cursor = con.cursor()\n",
    "    cursor.execute(\"SELECT COUNT(*) from tweetsuniv\")\n",
    "    result=cursor.fetchone()\n",
    "    cursor.close()\n",
    "    con.close()\n",
    "    return result[0]"
   ]
  },
  {
   "cell_type": "code",
   "execution_count": 4,
   "metadata": {},
   "outputs": [],
   "source": [
    "def gettweetsNBR(track):\n",
    "    con = pymysql.connect(host = 'localhost',db='tweetsdb', user='root', password = password, charset = 'utf8')\n",
    "    cursor = con.cursor()\n",
    "    cursor.execute(\"SELECT COUNT(*) from tweetsuniv where track=%s\",track)\n",
    "    result=cursor.fetchone()\n",
    "    cursor.close()\n",
    "    con.close()\n",
    "    return result[0]"
   ]
  },
  {
   "cell_type": "code",
   "execution_count": 5,
   "metadata": {},
   "outputs": [],
   "source": [
    "def GetDISTINCTvalues(clum):\n",
    "    con = pymysql.connect(host = 'localhost',db='tweetsdb', user='root', password = password, charset = 'utf8')\n",
    "    cursor = con.cursor()\n",
    "    query = \"SELECT DISTINCT \"+clum+\"  FROM tweetsuniv\"\n",
    "    cursor.execute(query)\n",
    "    result=cursor.fetchall()\n",
    "    cursor.close()\n",
    "    con.close()\n",
    "    return result"
   ]
  },
  {
   "cell_type": "markdown",
   "metadata": {},
   "source": [
    "## Connect to database and insert tweets row"
   ]
  },
  {
   "cell_type": "code",
   "execution_count": 6,
   "metadata": {},
   "outputs": [],
   "source": [
    "def connect(tweetID, track,user, created_at, towho, tweet, hashtags , mentions, retweet_count, likes):\n",
    "    \"\"\"\n",
    "    connect to MySQL database and insert twitter data\n",
    "    \"\"\"\n",
    "    try:\n",
    "        con = pymysql.connect(host = 'localhost',db='tweetsdb', user='root', password = password, charset = 'utf8')\n",
    "        \n",
    "        print(con)\n",
    "        \"\"\"\n",
    "        Insert twitter data\n",
    "        \"\"\"\n",
    "        cursor = con.cursor()\n",
    "        # twitter, golf\n",
    "        query = \"INSERT INTO tweetsuniv (tweetID, track,user, created_at, towho, tweet, hashtags , mentions, retweet_count, likes) VALUES (%s, %s, %s, %s, %s, %s, %s, %s, %s, %s)\"\n",
    "        cursor.execute(query, (tweetID, track,user, created_at, towho, tweet, hashtags , mentions, retweet_count, likes))\n",
    "        con.commit()\n",
    "            \n",
    "        cursor.close()\n",
    "        con.close()\n",
    "    except:\n",
    "        print('duplication')\n",
    "\n",
    "    return"
   ]
  },
  {
   "cell_type": "code",
   "execution_count": 7,
   "metadata": {},
   "outputs": [],
   "source": [
    "\n",
    "def get_twitter_info():\n",
    "    tweet_df[\"tweet_text\"] = tweet_df[\"got_criteria\"].apply(lambda x: x.text)\n",
    "    tweet_df[\"date\"] = tweet_df[\"got_criteria\"].apply(lambda x: x.date)\n",
    "    tweet_df[\"hashtags\"] = tweet_df[\"got_criteria\"].apply(lambda x: x.hashtags)\n",
    "    tweet_df[\"link\"] = tweet_df[\"got_criteria\"].apply(lambda x: x.permalink)"
   ]
  },
  {
   "cell_type": "code",
   "execution_count": 8,
   "metadata": {},
   "outputs": [],
   "source": [
    "def printTweet(tweet,track):\n",
    "    #print(tweet)\n",
    "    for t in tweet:\n",
    "        print(int(t.id),track, t.username ,t.date,t.to , t.text, t.hashtags, t.mentions  , t.retweets , t.favorites)\n",
    "        connect(int(t.id),track, t.username ,t.date,t.to , t.text, t.hashtags, t.mentions  , t.retweets , t.favorites)\n",
    "        print(\"id: %s\" % t.id)"
   ]
  },
  {
   "cell_type": "markdown",
   "metadata": {},
   "source": [
    "##  search setting  "
   ]
  },
  {
   "cell_type": "code",
   "execution_count": 9,
   "metadata": {},
   "outputs": [],
   "source": [
    "#set keyword, location and search variables\n",
    "keyword = \"#جامعة_الجزائر\"\n",
    "oldest_date = \"2010-01-01\"    \n",
    "newest_date = \"2020-09-01\"\n",
    "langue = 'ar'\n",
    "number_tweets = 100            #max number of tweets that will be returned (may be lower depending on availability)\n",
    "#get old tweets\n",
    "tweet_criteria = got.manager.TweetCriteria().setQuerySearch(keyword)\\\n",
    "                                            .setSince(oldest_date)\\\n",
    "                                            .setLang(langue)\\\n",
    "                                            .setUntil(newest_date)\\\n",
    "                                            .setMaxTweets(number_tweets)"
   ]
  },
  {
   "cell_type": "code",
   "execution_count": 10,
   "metadata": {},
   "outputs": [],
   "source": [
    "tweet = got.manager.TweetManager.getTweets(tweet_criteria)"
   ]
  },
  {
   "cell_type": "code",
   "execution_count": 11,
   "metadata": {},
   "outputs": [
    {
     "data": {
      "text/plain": [
       "<GetOldTweets3.models.Tweet.Tweet at 0x74e5fd0>"
      ]
     },
     "execution_count": 11,
     "metadata": {},
     "output_type": "execute_result"
    }
   ],
   "source": [
    "tweet[0]"
   ]
  },
  {
   "cell_type": "code",
   "execution_count": 12,
   "metadata": {},
   "outputs": [
    {
     "name": "stdout",
     "output_type": "stream",
     "text": [
      "1285159412504682506 #جامعة_الجزائر KarimCarabin 2020-07-20 10:27:35+00:00 radioalgerie_ar ياريت لو نسطتيع الاطلاع على أعمال هؤلاء التي قدموها حتى يكونوا اهل للترقية أين اضافاتهم للعلم اريد ان اقراء #جامعة_الجزائر    0 0\n",
      "<pymysql.connections.Connection object at 0x000000000751DDA0>\n",
      "duplication\n",
      "id: 1285159412504682506\n",
      "1296333946569887745 #جامعة_الجزائر JLCPCB 2020-08-20 06:31:12+00:00 None JLCPCB Prototype For $2/5pcs, 24 Hours Quick Turnaround. Get $23 Coupons For New Customer Free PCB SMT + $24 Coupons Monthly Order Here https://jlcpcb.com/v   83 818\n",
      "<pymysql.connections.Connection object at 0x00000000074E54A8>\n",
      "duplication\n",
      "id: 1296333946569887745\n",
      "1283299001438273536 #جامعة_الجزائر ahmedali_rachdi 2020-07-15 07:14:59+00:00 None الطريقة العملياتية لتسيير نهاية السنة الجامعية 2019/2020 والدخول الجامعي 2020/2021 في ظل جائحة كورونا هل يمكن الووفيق بين خفض الزمن البيداغوجي وخفض عددالطلبة في القاعات؟! صراحة المعادلة صعبة #جامعة_الجزائر   0 5\n",
      "<pymysql.connections.Connection object at 0x000000000751D6D8>\n",
      "duplication\n",
      "id: 1283299001438273536\n",
      "1271876769423990784 #جامعة_الجزائر ZdzOfficial 2020-06-13 18:47:06+00:00 None #رواق_الصورة | هل تعرفون \"حقول اللّفت\"...؟ هكذا جاءت الى الوجود #جامعة_الجزائر التي نعرف اليوم.. 11 صورة قديمة في هذا الرابط: https://bit.ly/37zcJlO   0 0\n",
      "<pymysql.connections.Connection object at 0x000000000751D518>\n",
      "duplication\n",
      "id: 1271876769423990784\n",
      "1271876711370698757 #جامعة_الجزائر ZdzOfficial 2020-06-13 18:46:52+00:00 None #رواق_الصورة | هل تعرفون \"حقول اللّفت\"...؟ هكذا جاءت الى الوجود #جامعة_الجزائر التي نعرف اليوم.. 11 صورة قديمة في هذا الرابط: https://bit.ly/37zcJlO   0 0\n",
      "<pymysql.connections.Connection object at 0x000000000751D748>\n",
      "duplication\n",
      "id: 1271876711370698757\n",
      "1271876645239037952 #جامعة_الجزائر ZdzOfficial 2020-06-13 18:46:37+00:00 None #رواق_الصورة | هل تعرفون \"حقول اللّفت\"...؟ هكذا جاءت الى الوجود #جامعة_الجزائر التي نعرف اليوم.. 11 صورة قديمة في هذا الرابط: https://bit.ly/37zcJlO   0 0\n",
      "<pymysql.connections.Connection object at 0x000000000751D4E0>\n",
      "duplication\n",
      "id: 1271876645239037952\n",
      "1269981432128114688 #جامعة_الجزائر kamouk16 2020-06-08 13:15:43+00:00 None مناقشة أول أطروحة دكتوراه بجامعة الجزائر 2، وعن بعد وبتقنية التواصل المرئي في ظل تواصل انتشار فيروس كورونا بالبلاد. #الجزائر #جامعة_الجزائر    1 1\n",
      "<pymysql.connections.Connection object at 0x000000000751D710>\n",
      "duplication\n",
      "id: 1269981432128114688\n",
      "1269379498031620101 #جامعة_الجزائر ouchaitmeriem 2020-06-06 21:23:50+00:00 None وبينما تحتجزك مشاغل الحياة وتتقاذفكَ بهمومها ومسرّاتها،تمتد إليك يدٌ من الماضي لتذكركَ بمكان وزمان عشتهما كطالب...مجموعة جديدة على فيسبوك انضممتُ إليها حديثاً أعضاؤهازملاء الدراسة الجامعية كثيرون انقطعت أخبارهم ولم أرهم منذ عقدين ارتسمتْ وجوههم مرة أخرى في مخيلتي #جامعة_الجزائر    8 209\n",
      "<pymysql.connections.Connection object at 0x000000000751DD68>\n",
      "duplication\n",
      "id: 1269379498031620101\n",
      "1234820219731947521 #جامعة_الجزائر alquari_elomari 2020-03-03 12:37:36+00:00 El_Bilade أوّل ما دمّر الجامعات هو الاختلاط. يجب على الجميع أن يعترف. الاختلاط أفسد الطلاب و الأساتذة. أصبحت أوكارا و ليست جامعات. لكن أين شجاعة الاعتراف. #بن_بيتور #جامعة_الجزائر   0 0\n",
      "<pymysql.connections.Connection object at 0x000000000751DC88>\n",
      "duplication\n",
      "id: 1234820219731947521\n",
      "1214643076393840640 #جامعة_الجزائر ToufikOuamane 2020-01-07 20:20:51+00:00 None تعيين الأستاذ #سليمان_أعراج عميدا لكلية العلوم السياسية والعلاقات الدولية بــ #جامعة_الجزائر   0 0\n",
      "<pymysql.connections.Connection object at 0x000000000751D7B8>\n",
      "duplication\n",
      "id: 1214643076393840640\n",
      "1196680249997692928 #جامعة_الجزائر ab4___du 2019-11-19 06:42:59+00:00 None #نمير_البيان #جامعة_الجزائر مرحبا أيها الأصدقاء أبحث عن كتاب السخرية في الأدب الجزائري الحديث.لمحمد ناصر بوحجام. من يوجد معه أرجو التواصل. شاكرا لكم   2 4\n",
      "<pymysql.connections.Connection object at 0x000000000751DA20>\n",
      "duplication\n",
      "id: 1196680249997692928\n",
      "1118822769087664128 #جامعة_الجزائر ALGtrend 2019-04-18 10:25:09+00:00 None متابعة / #جامعة_الجزائر 1 / #كلية_الحقوق أصدرت الادارة بيانا نفت فيه ترخيصها الدخول الى حرم الجامعة وتوجهت بتبليغ الى الجهات الوصية لتتخذ ما تراه مناسبا من اجراءات قانونية.   1 9\n",
      "<pymysql.connections.Connection object at 0x000000000751D630>\n",
      "duplication\n",
      "id: 1118822769087664128\n",
      "1102515001875750913 #جامعة_الجزائر MShmseldin 2019-03-04 10:23:54+00:00 None تظاهرات احتجاجية على ترشح #بوتفليقة في #جامعة_الجزائر   0 0\n",
      "<pymysql.connections.Connection object at 0x000000000751D7F0>\n",
      "duplication\n",
      "id: 1102515001875750913\n",
      "1079723578629738497 #جامعة_الجزائر malikmaykon 2018-12-31 12:58:56+00:00 None #تعقيب صورة متداولة على الفيسبوك.. سبوتة مستوى ثالثة ثانوي؟ هو خريج #جامعة_الجزائر إختصاص #علوم_سياسية. نعتدر على نشر الخبر المغلوط و شكرا لأعضاء الصفحة الذين علقو على المنشور و قامو بتصحيح المعلومة.   0 0\n",
      "<pymysql.connections.Connection object at 0x000000000751D780>\n",
      "duplication\n",
      "id: 1079723578629738497\n",
      "1055878184678445063 #جامعة_الجزائر Academiaglobe_ 2018-10-26 17:45:51+00:00 None يُعقد #المؤتمر_الدولي_الثالث حول: #علم_النفس_الإيجابي واقع وآفاق تحت شعار” نحو نظرة مستقبلية هادفة \"، يومي 11 ، 12 ديسمبر 2018 بقاعة المحاضرات الكبرى – #جامعة_الجزائر. للمزيد من المعلومات عن المؤتمر يرجى زياة الرابط التالي: https://www.diae.events/ar/events/%D8%A7%D9%84%D9%85%D8%A4%D8%AA%D9%85%D8%B1-%D8%A7%D9%84%D8%AF%D9%88%D9%84%D9%8A-%D8%A7%D9%84%D8%AB%D8%A7%D9%84%D8%AB-%D8%AD%D9%88%D9%84-%D8%B9%D9%84%D9%85-%D8%A7%D9%84%D9%86%D9%81%D8%B3-%D8%A7%D9%84/?fbclid=IwAR0P_k0_jlVDAv4QBRLgYZTRru1u1RadK2RAruKSNdGyMX-0PS3LbdisooE #أكاديمياجلوب   0 1\n",
      "<pymysql.connections.Connection object at 0x000000000751D9E8>\n",
      "duplication\n",
      "id: 1055878184678445063\n",
      "1049900466740633600 #جامعة_الجزائر nraaoman 2018-10-10 05:52:32+00:00 None #يحدث_الآن \"التنافس الاقتصادي الفرنسي البريطاني وأثره على عمان خلال منتصف القرن 19م من خلال الأرشيف الفرنسي\" أ.د. بوضرساية بوعزة، #جامعه_الجزائر، #الجزائر #مباشر على http://m.youtube.com/channel/UC1ox6QK2NChX61TpfFbeUEg … … … #العلاقات_العمانية_البريطانية #omani_british_relations #omani_british_relations  1 2\n",
      "<pymysql.connections.Connection object at 0x000000000751DC88>\n",
      "duplication\n",
      "id: 1049900466740633600\n",
      "1049066989300400129 #جامعة_الجزائر ennaharonline 2018-10-07 22:40:35+00:00 None #الجزائر الجينز \"المقطع\"، \"البونتاكور\" و\"الميني\" ممنوعة في #جامعة_الجزائر    5 63\n",
      "<pymysql.connections.Connection object at 0x000000000751DDA0>\n",
      "duplication\n",
      "id: 1049066989300400129\n",
      "1013840189377138688 #جامعة_الجزائر entv_dz 2018-07-02 17:41:52+00:00 None #جامعة_الجزائر 3 تخرج دفعة من طلبة معهد العلوم والإتصال    1 1\n",
      "<pymysql.connections.Connection object at 0x000000000751D518>\n",
      "duplication\n",
      "id: 1013840189377138688\n",
      "979765500015202309 #جامعة_الجزائر AntiqueArabiaTW 2018-03-30 17:01:13+00:00 None طالبتان في #جامعة_الجزائر عام 1972    1 5\n",
      "<pymysql.connections.Connection object at 0x0000000007520320>\n",
      "duplication\n",
      "id: 979765500015202309\n",
      "946306755172208641 #جامعة_الجزائر wXkE3JYD2cALXW3 2017-12-28 09:08:06+00:00 None #هذه_بلادي_الجزاير #جامعة_الجزائر تسما مفيهاش رطارباج لناس المرفوع عليها القلم المهم اذا كان الخبر صحيح نقول لاساتذة شكرا من قلبي ريحتونا من التحضيرات لامتحانات على اقل الواحد يستمتع بالعطلة    1 2\n",
      "<pymysql.connections.Connection object at 0x00000000075200F0>\n",
      "duplication\n",
      "id: 946306755172208641\n",
      "913135750400675841 #جامعة_الجزائر ennaharonline 2017-09-27 20:18:22+00:00 None #الجزائر #Algerie اتفاقية بين #بورصة و #جامعة_الجزائر لإدخال شهادة ماستير #محلل_مالي https://goo.gl/3i2Hn1 #Algerie  2 9\n",
      "<pymysql.connections.Connection object at 0x000000000751DBA8>\n",
      "duplication\n",
      "id: 913135750400675841\n",
      "910066606004428800 #جامعة_الجزائر B_Zoubida 2017-09-19 09:02:41+00:00 None كلية الحقوق #جامعة_الجزائر تمنع لبس الفساتين القصيرة للبنات يهتمون بهذا.. وينسون الحديث عن مشاكل الطلاب وتخفيض منحهم لسنة 2018 #الجزائر   0 1\n",
      "<pymysql.connections.Connection object at 0x0000000007520390>\n",
      "duplication\n",
      "id: 910066606004428800\n",
      "839562304668766223 #جامعة_الجزائر ennaharonline 2017-03-08 19:43:46+00:00 None عميد #جامعة_الجزائر يوفد لجنة تحقيق الى #كلية_الحقوق بعد فضيحة الحفل الساهر http://bit.ly/2lZFnTr   0 6\n",
      "<pymysql.connections.Connection object at 0x0000000007520128>\n",
      "duplication\n",
      "id: 839562304668766223\n",
      "839560102550114306 #جامعة_الجزائر ennaharonline 2017-03-08 19:35:01+00:00 None عميد #جامعة_الجزائر يعتبر ما حدث من حفلة راقصة بمعهد #الحقوق تجاوز خطير   2 7\n",
      "<pymysql.connections.Connection object at 0x00000000075200B8>\n",
      "duplication\n",
      "id: 839560102550114306\n",
      "839559047120621568 #جامعة_الجزائر ennaharonline 2017-03-08 19:30:49+00:00 None عميد #جامعة_الجزائر يوفد لجنة تحقيق الى #معهد_الحقوق   1 3\n"
     ]
    },
    {
     "name": "stdout",
     "output_type": "stream",
     "text": [
      "<pymysql.connections.Connection object at 0x0000000007520C50>\n",
      "duplication\n",
      "id: 839559047120621568\n",
      "817863120077070338 #جامعة_الجزائر ennaharonline 2017-01-07 22:38:57+00:00 None رئيس #جامعة_الجزائر 1 يقف على مهازل #بكلية_الحقوق http://bit.ly/2j3qsHW   0 1\n",
      "<pymysql.connections.Connection object at 0x000000000751D7F0>\n",
      "duplication\n",
      "id: 817863120077070338\n",
      "772530377889976320 #جامعة_الجزائر MaktabatOnLine 2016-09-04 20:22:49+00:00 None #مكتبة - #المكتبات - #جامعة_الجزائر - #الجزائر - #المكتبة_الرقمية متى تتحرر الجامعة الجزائرية من لغة الأرقام... http://fb.me/7yVJ7dJCs   0 0\n",
      "<pymysql.connections.Connection object at 0x000000000751D588>\n",
      "duplication\n",
      "id: 772530377889976320\n",
      "728192677351690240 #جامعة_الجزائر AlBayanNews 2016-05-05 12:00:38+00:00 None 10 آلاف بحث ورسالةدكتوراه تم مناقشتها في #جامعة_الجزائر منذ العام 2009 باللغة العربية #المؤتمر_الدولي_للغة_العربية   4 2\n",
      "<pymysql.connections.Connection object at 0x000000000751DC88>\n",
      "duplication\n",
      "id: 728192677351690240\n",
      "728191346842963968 #جامعة_الجزائر AlBayanNews 2016-05-05 11:55:20+00:00 None المدارس والكتاتيب هي ما حافظ على #اللغة_العربية في #الجزائر بوجود المستعمر الفرنسي رئيس #جامعة_الجزائر    3 2\n",
      "<pymysql.connections.Connection object at 0x000000000751D710>\n",
      "duplication\n",
      "id: 728191346842963968\n",
      "728184053418098688 #جامعة_الجزائر AlBayanNews 2016-05-05 11:26:21+00:00 None مدير #جامعة_الامارات و رئيس #جامعة_القاهرة و رئيس #جامعة_الجزائر والأمين العام لاتحاد الجامعات العربية #دبي   4 2\n",
      "<pymysql.connections.Connection object at 0x000000000751DE48>\n",
      "duplication\n",
      "id: 728184053418098688\n",
      "710225167612579843 #جامعة_الجزائر ennaharonline 2016-03-16 22:04:09+00:00 None أموال السوسيال تحت الطابلة بـ #جامعة_الجزائر 01 http://bit.ly/1nPeMct   0 2\n",
      "<pymysql.connections.Connection object at 0x000000000751D208>\n",
      "duplication\n",
      "id: 710225167612579843\n",
      "676524599513886720 #جامعة_الجزائر ennaharonline 2015-12-14 22:10:08+00:00 None التغماس باسم السوسيال في #جامعة_الجزائر 1 http://bit.ly/1RkQi7q   0 1\n",
      "<pymysql.connections.Connection object at 0x000000000751DA90>\n",
      "duplication\n",
      "id: 676524599513886720\n",
      "674284514559049728 #جامعة_الجزائر ennaharonline 2015-12-08 17:48:50+00:00 None #جامعة_الجزائر تفتح #ليسانس في تخصص #أمن_عمومي http://bit.ly/1ICMqvN   4 3\n",
      "<pymysql.connections.Connection object at 0x000000000751D780>\n",
      "duplication\n",
      "id: 674284514559049728\n",
      "674279460074573825 #جامعة_الجزائر ennaharonline 2015-12-08 17:28:45+00:00 None #جامعة_الجزائر تفتح ليسانس في تخصص جديد http://bit.ly/21MwOMU   3 5\n",
      "<pymysql.connections.Connection object at 0x0000000007520160>\n",
      "duplication\n",
      "id: 674279460074573825\n",
      "667101006124183556 #جامعة_الجزائر ennaharonline 2015-11-18 22:04:08+00:00 None هل يعلم عميد #جامعة_الجزائر 1 بما يحدث http://bit.ly/213wY20   1 3\n",
      "<pymysql.connections.Connection object at 0x0000000007520208>\n",
      "duplication\n",
      "id: 667101006124183556\n",
      "651075658710319104 #جامعة_الجزائر elkhabarlive 2015-10-05 16:45:08+00:00 None #الخبر #جامعة_الجزائر اكتظاظ وسوء تنظيم ونقص في التأطير غليان في الجامعة &gt;&gt;http://bit.ly/1VB2COJ   1 5\n",
      "<pymysql.connections.Connection object at 0x0000000007520198>\n",
      "duplication\n",
      "id: 651075658710319104\n"
     ]
    }
   ],
   "source": [
    "printTweet(tweet,keyword)"
   ]
  },
  {
   "cell_type": "code",
   "execution_count": 13,
   "metadata": {
    "scrolled": true
   },
   "outputs": [
    {
     "data": {
      "text/plain": [
       "(('#جامعة_الجزائر',),\n",
       " ('#جامعة_ام_القرى',),\n",
       " ('#PNU',),\n",
       " ('#جامعة_الملك_سعود',),\n",
       " ('#جامعة_الأميرة_نورة',),\n",
       " ('#جامعة_الاميرة_نورة',),\n",
       " ('جامعة_الأميرة_نورة',),\n",
       " ('#جامعة_الأميرة_نوره',),\n",
       " ('جامعة_طيبة',),\n",
       " ('جامعة_أم_القرى',))"
      ]
     },
     "execution_count": 13,
     "metadata": {},
     "output_type": "execute_result"
    }
   ],
   "source": [
    "GetDISTINCTvalues('track')"
   ]
  },
  {
   "cell_type": "code",
   "execution_count": 14,
   "metadata": {},
   "outputs": [
    {
     "data": {
      "text/plain": [
       "36"
      ]
     },
     "execution_count": 14,
     "metadata": {},
     "output_type": "execute_result"
    }
   ],
   "source": [
    "gettweetsNBR('#جامعة_الجزائر')"
   ]
  },
  {
   "cell_type": "code",
   "execution_count": 15,
   "metadata": {},
   "outputs": [
    {
     "data": {
      "text/plain": [
       "36847"
      ]
     },
     "execution_count": 15,
     "metadata": {},
     "output_type": "execute_result"
    }
   ],
   "source": [
    "gettweetsNBRall()"
   ]
  }
 ],
 "metadata": {
  "kernelspec": {
   "display_name": "Python 3",
   "language": "python",
   "name": "python3"
  },
  "language_info": {
   "codemirror_mode": {
    "name": "ipython",
    "version": 3
   },
   "file_extension": ".py",
   "mimetype": "text/x-python",
   "name": "python",
   "nbconvert_exporter": "python",
   "pygments_lexer": "ipython3",
   "version": "3.7.3"
  }
 },
 "nbformat": 4,
 "nbformat_minor": 2
}
